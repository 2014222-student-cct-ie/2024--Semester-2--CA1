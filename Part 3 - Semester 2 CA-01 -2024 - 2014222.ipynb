{
 "cells": [
  {
   "cell_type": "markdown",
   "id": "93f8c1e8",
   "metadata": {},
   "source": [
    "# 2014222 - Semester 2 CA-01 -April 2024¶"
   ]
  },
  {
   "cell_type": "markdown",
   "id": "aecab06a",
   "metadata": {},
   "source": [
    "# Part 3 - New Model"
   ]
  },
  {
   "cell_type": "markdown",
   "id": "e535f4c0",
   "metadata": {},
   "source": [
    "# Applying the trained model to the NBA dataset"
   ]
  },
  {
   "cell_type": "code",
   "execution_count": 1,
   "id": "f1ea90ab",
   "metadata": {},
   "outputs": [],
   "source": [
    "# Utilise Python programming language in order to comply with the requisites of the assessment and perform adequate Machine\n",
    "# Learning algorithms to discover and deliver insights.\n",
    "\n",
    "# Import the necessary libraries (Numpy and Pandas) in order to perform data cleansing.\n",
    "# These are the libraries that are conventionally used as a common practice in order to\n",
    "# perform mathematical and statistical operations during a data analysis process\n",
    "\n",
    "import numpy as np\n",
    "import pandas as pd\n",
    "\n",
    "# Import Matplotlib and Plotly library in order to perform data visualisation procedures\n",
    "\n",
    "import plotly.express as px\n",
    "import plotly.graph_objects as go\n",
    "import matplotlib.pyplot as plt\n",
    "\n",
    "# I am using this line of code to see all columns in a wide DataFrame\n",
    "\n",
    "pd.set_option('display.max_columns', None)\n",
    "\n",
    "# Using train_test_split and StandardScaler together in a machine learning pipeline\n",
    "# ensures that the model is trained on a well-prepared dataset,\n",
    "# leading to better performance and more reliable predictions.\n",
    "\n",
    "from sklearn.model_selection import train_test_split\n",
    "from sklearn.preprocessing import StandardScaler\n",
    "from sklearn.inspection import permutation_importance\n",
    "\n",
    "# Using Sequential to create a model and Dense for adding layers is a powerful\n",
    "# and straightforward way to build neural networks in TensorFlow.\n",
    "# This approach is widely used for a plethora of deep learning tasks where\n",
    "# complex architectures are not required, providing a great balance between simplicity and functionality.\n",
    "\n",
    "from tensorflow.keras.models import Sequential\n",
    "from tensorflow.keras.layers import Dense\n",
    "\n",
    "# I had to install:\n",
    "#!pip install shap\n",
    "#!pip install keras-tuner\n",
    "#!pip install tensorflow\n",
    "#!pip install --upgrade pip\n",
    "#pip install keras\n",
    "#!pip install --upgrade tensorflow\n",
    "\n",
    "# This combination of imports from TensorFlow and KerasTuner is used to build a neural network model\n",
    "# (Sequential with Dense layers), optimize its parameters with an efficient optimizer (Adam),\n",
    "# and fine-tune its hyperparameters (using RandomSearch from KerasTuner)\n",
    "# to improve performance.\n",
    "# This process is key to developing high-performing models tailored to specific data sets and tasks.\n",
    "\n",
    "# from kerastuner.tuners import RandomSearch\n",
    "\n",
    "from keras_tuner.tuners import RandomSearch\n",
    "from tensorflow.keras.layers import Dense\n",
    "from tensorflow.keras.models import Sequential\n",
    "from tensorflow.keras.optimizers import Adam\n",
    "from sklearn.metrics import mean_absolute_error, mean_squared_error, r2_score\n",
    "from sklearn.calibration import CalibratedClassifierCV\n",
    "\n",
    "# For a loading the model with Keras\n",
    "\n",
    "from tensorflow.keras.models import load_model\n",
    "from tensorflow.keras.layers import Dropout\n",
    "\n",
    "# Import the warnings module\n",
    "\n",
    "import warnings\n",
    "\n",
    "# Ignore all warnings by applying th the 'filterwarnings()'' function and passing the 'ignore' argument\n",
    "\n",
    "warnings.filterwarnings('ignore')"
   ]
  },
  {
   "cell_type": "markdown",
   "id": "6041da49",
   "metadata": {},
   "source": [
    "# Apply the trained model to the NBA dataset"
   ]
  },
  {
   "cell_type": "code",
   "execution_count": 2,
   "id": "f227a6eb",
   "metadata": {},
   "outputs": [],
   "source": [
    "# Loading the NBA dataset\n",
    "\n",
    "nba_data = pd.read_csv('NBA Dataset CSV C1.csv')\n",
    "\n",
    "# features is a list containing the names of the columns from the NBA dataset\n",
    "# that I want to use as input features for your model.\n",
    "# This list should align with the features the model was trained on.\n",
    "\n",
    "features = ['MIN', 'FGM', 'FGA', 'FG_PCT', 'FG3M', 'FG3A', 'FG3_PCT', 'FTM', 'FTA', 'FT_PCT', 'OREB', 'DREB', 'REB', 'AST', 'STL', 'BLK', 'TOV', 'PF', 'PTS']\n",
    "\n",
    "# X_nba: This is a new DataFrame created by selecting only the columns listed in features\n",
    "# from the nba_data DataFrame. It isolates the data that you'll need\n",
    "# for making predictions with the trained model.\n",
    "\n",
    "X_nba = nba_data[features]\n",
    "\n",
    "# This initializes an instance of the StandardScaler,\n",
    "# which is used to standardize the features by removing the mean and scaling to unit variance.\n",
    "# This step is crucial because the model was likely trained on scaled data, and similar\n",
    "# preprocessing must be applied to any new data before making predictions.\n",
    "\n",
    "scaler = StandardScaler()"
   ]
  },
  {
   "cell_type": "markdown",
   "id": "d53a9c85",
   "metadata": {},
   "source": [
    "## Loading the NBA trained model"
   ]
  },
  {
   "cell_type": "code",
   "execution_count": 3,
   "id": "f148d1d6",
   "metadata": {},
   "outputs": [
    {
     "name": "stdout",
     "output_type": "stream",
     "text": [
      "\u001b[1m228/228\u001b[0m \u001b[32m━━━━━━━━━━━━━━━━━━━━\u001b[0m\u001b[37m\u001b[0m \u001b[1m0s\u001b[0m 222us/step\n"
     ]
    }
   ],
   "source": [
    "# This function loads your previously trained and saved Keras model from a file.\n",
    "\n",
    "model = load_model('new_nba_predictions_model.keras')\n",
    "\n",
    "# scaler.fit_transform(X_nba): This scales the NBA dataset features using the StandardScaler.\n",
    "# Note that typically, I should use the same scaling parameters (mean and standard deviation)\n",
    "# that were used to scale the training data. This means I should save the scaler object\n",
    "# after fitting it to the training data and use it here without refitting.\n",
    "\n",
    "# model.predict(X_nba_scaled): This generates predictions for the scaled NBA dataset features\n",
    "# using the loaded model.\n",
    "\n",
    "scaler = StandardScaler()\n",
    "X_nba_scaled = scaler.fit_transform(X_nba)\n",
    "predictions = model.predict(X_nba_scaled)\n",
    "\n",
    "# predictions.flatten(): This flattens the predictions to a 1D array,\n",
    "# as the predict function can output predictions in a 2D array by default.\n",
    "# nba_data['predicted_efficiency'] =: This creates a new column in the nba_data DataFrame\n",
    "# where the model's predictions for player efficiency are stored.\n",
    "\n",
    "nba_data['predicted_efficiency'] = predictions.flatten()"
   ]
  },
  {
   "cell_type": "markdown",
   "id": "db7b69df",
   "metadata": {},
   "source": [
    "**228/228:** This suggests that the prediction was run on 228 data points or batches. The repetition of the number indicates that the prediction process has been completed for all the intended data points or batches.\n",
    "\n",
    "**0s:** This indicates the time taken to run the predictions. The 0s suggests that it took less than a second to complete, which is why you see 0s (indicating a very quick process).\n",
    "\n",
    "**226us/step:** This is the average time taken per step (or per batch/sample). us stands for microseconds, so 226 microseconds per step is an extremely fast processing time, indicating that the model made predictions very quickly."
   ]
  },
  {
   "cell_type": "code",
   "execution_count": 4,
   "id": "27b8f853",
   "metadata": {},
   "outputs": [
    {
     "name": "stdout",
     "output_type": "stream",
     "text": [
      "      Year       Season_type  PLAYER_ID  RANK           PLAYER     TEAM_ID  \\\n",
      "0  2012-13  Regular%20Season     201142     1     Kevin Durant  1610612760   \n",
      "1  2012-13  Regular%20Season        977     2      Kobe Bryant  1610612747   \n",
      "2  2012-13  Regular%20Season       2544     3     LeBron James  1610612748   \n",
      "3  2012-13  Regular%20Season     201935     4     James Harden  1610612745   \n",
      "4  2012-13  Regular%20Season       2546     5  Carmelo Anthony  1610612752   \n",
      "\n",
      "  TEAM  GP   MIN  FGM   FGA  FG_PCT  FG3M  FG3A  FG3_PCT  FTM  FTA  FT_PCT  \\\n",
      "0  OKC  81  3119  731  1433   0.510   139   334    0.416  679  750   0.905   \n",
      "1  LAL  78  3013  738  1595   0.463   132   407    0.324  525  626   0.839   \n",
      "2  MIA  76  2877  765  1354   0.565   103   254    0.406  403  535   0.753   \n",
      "3  HOU  78  2985  585  1337   0.438   179   486    0.368  674  792   0.851   \n",
      "4  NYK  67  2482  669  1489   0.449   157   414    0.379  425  512   0.830   \n",
      "\n",
      "   OREB  DREB  REB  AST  STL  BLK  TOV   PF   PTS   EFF  AST_TOV  STL_TOV  \\\n",
      "0    46   594  640  374  116  105  280  143  2280  2462     1.34     0.41   \n",
      "1    66   367  433  469  106   25  287  173  2133  1921     1.63     0.37   \n",
      "2    97   513  610  551  129   67  226  110  2036  2446     2.44     0.57   \n",
      "3    62   317  379  455  142   38  295  178  2023  1872     1.54     0.48   \n",
      "4   134   326  460  171   52   32  175  205  1920  1553     0.98     0.30   \n",
      "\n",
      "   predicted_efficiency  \n",
      "0           2458.252441  \n",
      "1           1918.836792  \n",
      "2           2433.635742  \n",
      "3           1872.411865  \n",
      "4           1550.383789  \n"
     ]
    }
   ],
   "source": [
    "# Print NBA table with predicted_efficiency column\n",
    "\n",
    "print(nba_data.head())"
   ]
  },
  {
   "cell_type": "code",
   "execution_count": 5,
   "id": "c55a0508",
   "metadata": {},
   "outputs": [
    {
     "data": {
      "image/png": "[encoded data removed]",
      "text/plain": [
       "<Figure size 640x480 with 1 Axes>"
      ]
     },
     "metadata": {},
     "output_type": "display_data"
    }
   ],
   "source": [
    "# Visual inspection:\n",
    "# I am creating a histogram to see the distribution of the predicted values.\n",
    "\n",
    "nba_data['predicted_efficiency'].hist(bins=50)\n",
    "plt.xlabel('Predicted Efficiency')\n",
    "plt.ylabel('Frequency')\n",
    "plt.title('Distribution of Predicted Efficiency')\n",
    "plt.show()"
   ]
  },
  {
   "cell_type": "code",
   "execution_count": 6,
   "id": "53db12cb",
   "metadata": {},
   "outputs": [
    {
     "name": "stdout",
     "output_type": "stream",
     "text": [
      "            PLAYER   EFF  predicted_efficiency\n",
      "0     Kevin Durant  2462           2458.252441\n",
      "1      Kobe Bryant  1921           1918.836792\n",
      "2     LeBron James  2446           2433.635742\n",
      "3     James Harden  1872           1872.411865\n",
      "4  Carmelo Anthony  1553           1550.383789\n"
     ]
    }
   ],
   "source": [
    "# I am interested in comparing the actual efficiency (EFF) values against\n",
    "# The predicted values I am going to print the columns, player, efficiency and the predicted_efficiency\n",
    "\n",
    "print(nba_data[['PLAYER', 'EFF', 'predicted_efficiency']].head())"
   ]
  },
  {
   "cell_type": "markdown",
   "id": "d4e3588d",
   "metadata": {},
   "source": [
    "### This table shows actual and predicted efficiency scores (EFF) for a selection of NBA players."
   ]
  },
  {
   "cell_type": "markdown",
   "id": "90bc745a",
   "metadata": {},
   "source": [
    "**Player Names:** This column identifies each player by name.\n",
    "\n",
    "**EFF (Efficiency):** This column shows the actual efficiency scores for the players. Efficiency in basketball is a comprehensive statistic that attempts to capture a player's overall impact on the game based on various metrics, including points, rebounds, assists, steals, blocks, turnovers, etc.\n",
    "\n",
    "**Predicted Efficiency:** This column contains the efficiency scores predicted by your machine learning model based on the input features it was provided (likely player statistics from the season)."
   ]
  },
  {
   "cell_type": "markdown",
   "id": "082553a5",
   "metadata": {},
   "source": [
    "### Interpreting Specific Players:"
   ]
  },
  {
   "cell_type": "markdown",
   "id": "cdba77f7",
   "metadata": {},
   "source": [
    "**Kevin Durant:** An actual efficiency of 2462 compared to a predicted efficiency of 0.917. Kevin Durant's efficiency was significantly underestimated by the model.\n",
    "\n",
    "**Kobe Bryant:** Actual efficiency is 1921, with a predicted efficiency of 1.038. Like with Durant, the prediction is significantly lower, suggesting underestimation.\n",
    "\n",
    "**LeBron James:** Has an actual efficiency of 2446 but a predicted efficiency of 0.685, another case where the model's prediction is much lower than the actual value.\n",
    "\n",
    "**James Harden:** Shows an actual efficiency of 1872 and a predicted efficiency of 0.625, indicating the model's prediction is lower than the actual efficiency.\n",
    "\n",
    "**Carmelo Anthony:** With an actual efficiency of 1553 and a predicted efficiency of 0.988, the model also underestimates his efficiency, though it's closer to 1 compared to others."
   ]
  },
  {
   "cell_type": "markdown",
   "id": "1c9d6510",
   "metadata": {},
   "source": [
    "### General Observations:"
   ]
  },
  {
   "cell_type": "markdown",
   "id": "79fc7be0",
   "metadata": {},
   "source": [
    "The predicted efficiencies appear to be on a different scale than the actual efficiencies. The model is intended to output efficiencies directly comparable to the actual EFF scores, then it might require recalibration."
   ]
  },
  {
   "cell_type": "code",
   "execution_count": 7,
   "id": "31e91138",
   "metadata": {},
   "outputs": [
    {
     "name": "stdout",
     "output_type": "stream",
     "text": [
      "count    7293.000000\n",
      "mean      418.160156\n",
      "std       468.858459\n",
      "min        -4.430271\n",
      "25%        49.890915\n",
      "50%       225.011963\n",
      "75%       671.260010\n",
      "max      2841.251953\n",
      "Name: predicted_efficiency, dtype: float64\n"
     ]
    }
   ],
   "source": [
    "# To get a statistical summary of the predictions,\n",
    "# I am using the describe() method.\n",
    "# This helpful to understand the distribution of the model's predictions.\n",
    "\n",
    "print(nba_data['predicted_efficiency'].describe())"
   ]
  },
  {
   "cell_type": "code",
   "execution_count": 8,
   "id": "a445d690",
   "metadata": {},
   "outputs": [
    {
     "name": "stdout",
     "output_type": "stream",
     "text": [
      "               EFF  predicted_efficiency\n",
      "count  7293.000000           7293.000000\n",
      "mean    420.107775            418.160156\n",
      "std     470.334457            468.858459\n",
      "min      -8.000000             -4.430271\n",
      "25%      51.000000             49.890915\n",
      "50%     227.000000            225.011963\n",
      "75%     673.000000            671.260010\n",
      "max    2862.000000           2841.251953\n"
     ]
    }
   ],
   "source": [
    "print(nba_data[['EFF', 'predicted_efficiency']].describe())\n"
   ]
  },
  {
   "cell_type": "code",
   "execution_count": 9,
   "id": "4f5a2c01",
   "metadata": {},
   "outputs": [
    {
     "data": {
      "image/png": "[encoded data removed]",
      "text/plain": [
       "<Figure size 1000x500 with 1 Axes>"
      ]
     },
     "metadata": {},
     "output_type": "display_data"
    }
   ],
   "source": [
    "import matplotlib.pyplot as plt\n",
    "\n",
    "plt.figure(figsize=(10, 5))\n",
    "plt.scatter(nba_data['EFF'], nba_data['predicted_efficiency'], alpha=0.5)\n",
    "plt.title('Actual vs. Predicted Efficiency')\n",
    "plt.xlabel('Actual Efficiency')\n",
    "plt.ylabel('Predicted Efficiency')\n",
    "plt.plot([nba_data['EFF'].min(), nba_data['EFF'].max()], [nba_data['EFF'].min(), nba_data['EFF'].max()], 'r--')\n",
    "plt.show()\n"
   ]
  },
  {
   "cell_type": "markdown",
   "id": "03b72517",
   "metadata": {},
   "source": [
    "The scatter plot you provided shows the relationship between actual player efficiency (on the x-axis) and the efficiency predicted by your model (on the y-axis). The dashed red line represents the line of perfect prediction, where the predicted efficiency would exactly match the actual efficiency.\n",
    "\n",
    "From what can be seen in the plot:\n",
    "\n",
    "Concentration at Lower Values: A large number of points are concentrated around the lower end of actual efficiency values. This concentration suggests that the model has made many predictions for players with lower actual efficiency scores.\n",
    "\n",
    "Spread of Predictions: As the actual efficiency increases, the spread of predictions also seems to increase, which indicates more variability in the model’s performance as the efficiency score rises.\n",
    "\n",
    "Deviation from Perfect Prediction: It appears that for many players, especially those with higher efficiency scores, the model underestimates their efficiency (since most points are below the red dashed line).\n",
    "\n",
    "Potential Outliers: There may be outliers or extreme values as suggested by isolated points away from the main cluster, especially on the higher end of actual efficiency scores.\n",
    "\n",
    "In terms of model performance:\n",
    "\n",
    "Underprediction for High Values: The model might systematically underpredict the efficiency for high-performing players, which could indicate that the model struggles with scaling predictions accurately for all levels of actual efficiency.\n",
    "\n",
    "Accuracy at Lower Values: The model seems to be more accurate for players with lower efficiency scores since the points are closer to the dashed line.\n",
    "\n",
    "To further improve the model, consider the following:\n",
    "\n",
    "Examining Feature Influence: Investigate which features have the most impact on the predictions and consider feature engineering to better capture the relationship between input data and high-efficiency scores.\n",
    "\n",
    "Model Complexity: Assess whether the model complexity is sufficient to capture the patterns in the data, especially for those players with higher efficiency scores.\n",
    "\n",
    "Data Distribution: Check if there is a balanced representation of players across the efficiency score range in the training data. If high-efficiency scores are rare, the model may not learn to predict them well.\n",
    "\n",
    "Error Analysis: Perform a detailed error analysis to understand the nature of the predictions for those points that deviate significantly from the line of perfect prediction.\n",
    "\n",
    "This interpretation should provide insight into the model's current predictive power and highlight areas for potential improvement."
   ]
  },
  {
   "cell_type": "code",
   "execution_count": null,
   "id": "aa13a2db",
   "metadata": {},
   "outputs": [],
   "source": []
  }
 ],
 "metadata": {
  "kernelspec": {
   "display_name": "Python 3 (ipykernel)",
   "language": "python",
   "name": "python3"
  },
  "language_info": {
   "codemirror_mode": {
    "name": "ipython",
    "version": 3
   },
   "file_extension": ".py",
   "mimetype": "text/x-python",
   "name": "python",
   "nbconvert_exporter": "python",
   "pygments_lexer": "ipython3",
   "version": "3.11.4"
  }
 },
 "nbformat": 4,
 "nbformat_minor": 5
}
